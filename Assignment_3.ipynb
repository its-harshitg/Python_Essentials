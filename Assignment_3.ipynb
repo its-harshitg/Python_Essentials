{
  "nbformat": 4,
  "nbformat_minor": 0,
  "metadata": {
    "colab": {
      "name": "Assignment 3.ipynb",
      "provenance": [],
      "authorship_tag": "ABX9TyNMWPQ1+rct4jSgE+Y2uE34",
      "include_colab_link": true
    },
    "kernelspec": {
      "name": "python3",
      "display_name": "Python 3"
    }
  },
  "cells": [
    {
      "cell_type": "markdown",
      "metadata": {
        "id": "view-in-github",
        "colab_type": "text"
      },
      "source": [
        "<a href=\"https://colab.research.google.com/github/its-harshitg/Python_LetsUpgrade/blob/main/Assignment_3.ipynb\" target=\"_parent\"><img src=\"https://colab.research.google.com/assets/colab-badge.svg\" alt=\"Open In Colab\"/></a>"
      ]
    },
    {
      "cell_type": "markdown",
      "metadata": {
        "id": "y2Sil6IVRv2t"
      },
      "source": [
        "# **Question 1**"
      ]
    },
    {
      "cell_type": "markdown",
      "metadata": {
        "id": "0FhSyCsORcVd"
      },
      "source": [
        "## Write a function in Python to check whether a number is Prime or not."
      ]
    },
    {
      "cell_type": "code",
      "metadata": {
        "id": "dXOKz_aWQMM6"
      },
      "source": [
        "def chk_prime(n):\r\n",
        "  f=0 \r\n",
        "  \r\n",
        "  for i in range(2,int(n/2+1)):\r\n",
        "    if n%i==0:\r\n",
        "      f=1\r\n",
        "      break\r\n",
        "\r\n",
        "  if f==1:\r\n",
        "    return False\r\n",
        "  else:\r\n",
        "    return True"
      ],
      "execution_count": 12,
      "outputs": []
    },
    {
      "cell_type": "code",
      "metadata": {
        "colab": {
          "base_uri": "https://localhost:8080/"
        },
        "id": "ZKZE0ppgT_O7",
        "outputId": "c8029720-7a65-46ab-9ebb-1d85db3ad83b"
      },
      "source": [
        "chk_prime(int(input(\"Enter a number o be checked \\t\")))"
      ],
      "execution_count": 20,
      "outputs": [
        {
          "output_type": "stream",
          "text": [
            "Enter a number o be checked4536\n"
          ],
          "name": "stdout"
        },
        {
          "output_type": "execute_result",
          "data": {
            "text/plain": [
              "False"
            ]
          },
          "metadata": {
            "tags": []
          },
          "execution_count": 20
        }
      ]
    }
  ]
}