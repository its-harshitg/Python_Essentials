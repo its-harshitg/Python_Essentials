{
  "nbformat": 4,
  "nbformat_minor": 0,
  "metadata": {
    "colab": {
      "name": "Untitled0.ipynb",
      "provenance": [],
      "authorship_tag": "ABX9TyOfQeA5tErJ4uWODvr+Ln1L",
      "include_colab_link": true
    },
    "kernelspec": {
      "name": "python3",
      "display_name": "Python 3"
    }
  },
  "cells": [
    {
      "cell_type": "markdown",
      "metadata": {
        "id": "view-in-github",
        "colab_type": "text"
      },
      "source": [
        "<a href=\"https://colab.research.google.com/github/its-harshitg/Python_LetsUpgrade/blob/main/Assignment2.ipynb\" target=\"_parent\"><img src=\"https://colab.research.google.com/assets/colab-badge.svg\" alt=\"Open In Colab\"/></a>"
      ]
    },
    {
      "cell_type": "markdown",
      "metadata": {
        "id": "TaU5OwxtKK9j"
      },
      "source": [
        "# **Assignment 2**"
      ]
    },
    {
      "cell_type": "markdown",
      "metadata": {
        "id": "LPs9OsOtKdqD"
      },
      "source": [
        "## **Question 1**\r\n",
        "You all are pilots, you have to land a plane, the altitude required for landing a plane is 1000ft, if it\r\n",
        "is less than that tell the pilot to land the plane, or it is more than that but less than 5000ft ask the\r\n",
        "pilot to \"come down to 1000ft\", else if it is more than 5000ft ask the pilot to \"go around and try\r\n",
        "later\""
      ]
    },
    {
      "cell_type": "code",
      "metadata": {
        "id": "dfng26aYwLP9"
      },
      "source": [
        "#variable assign\r\n",
        "pilot = 2500"
      ],
      "execution_count": 11,
      "outputs": []
    },
    {
      "cell_type": "code",
      "metadata": {
        "colab": {
          "base_uri": "https://localhost:8080/"
        },
        "id": "r0Mpb2MoHGlU",
        "outputId": "f5f7c370-cf91-4a9b-e3db-ac89900d0bbc"
      },
      "source": [
        "#if elif else statement\r\n",
        "if pilot < 1000:\r\n",
        "  print(\"land the plane\")\r\n",
        "elif pilot > 1000 and pilot < 5000:\r\n",
        "  print(\"come down to 1000ft\")\r\n",
        "else:\r\n",
        "  print(\"go around and try later\")"
      ],
      "execution_count": 12,
      "outputs": [
        {
          "output_type": "stream",
          "text": [
            "come down to 1000ft\n"
          ],
          "name": "stdout"
        }
      ]
    }
  ]
}