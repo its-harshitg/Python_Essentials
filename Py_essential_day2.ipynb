{
  "nbformat": 4,
  "nbformat_minor": 0,
  "metadata": {
    "colab": {
      "name": "Py_essential_day2.ipynb",
      "provenance": [],
      "authorship_tag": "ABX9TyPqahXjlJdb15yov4Mane1X",
      "include_colab_link": true
    },
    "kernelspec": {
      "name": "python3",
      "display_name": "Python 3"
    }
  },
  "cells": [
    {
      "cell_type": "markdown",
      "metadata": {
        "id": "view-in-github",
        "colab_type": "text"
      },
      "source": [
        "<a href=\"https://colab.research.google.com/github/its-harshitg/Python_Essentials/blob/main/Py_essential_day2.ipynb\" target=\"_parent\"><img src=\"https://colab.research.google.com/assets/colab-badge.svg\" alt=\"Open In Colab\"/></a>"
      ]
    },
    {
      "cell_type": "markdown",
      "metadata": {
        "id": "NE6jdpXSz1sG"
      },
      "source": [
        "# **Experiment with 5 List's In-built functions**"
      ]
    },
    {
      "cell_type": "markdown",
      "metadata": {
        "id": "ezwydGYD-lpx"
      },
      "source": [
        "`#creation`"
      ]
    },
    {
      "cell_type": "code",
      "metadata": {
        "id": "mVwbujmyyQkv"
      },
      "source": [
        "lst = [11,25,36,55,9.9,55.6,['abc','xyz'],78]"
      ],
      "execution_count": null,
      "outputs": []
    },
    {
      "cell_type": "code",
      "metadata": {
        "colab": {
          "base_uri": "https://localhost:8080/"
        },
        "id": "V4Jhtvie4ffs",
        "outputId": "a37b36b9-6982-437b-8f40-08e114ffe0bf"
      },
      "source": [
        "lst"
      ],
      "execution_count": null,
      "outputs": [
        {
          "output_type": "execute_result",
          "data": {
            "text/plain": [
              "[11, 25, 36, 55, 9.9, 55.6, ['abc', 'xyz'], 78]"
            ]
          },
          "metadata": {
            "tags": []
          },
          "execution_count": 15
        }
      ]
    },
    {
      "cell_type": "markdown",
      "metadata": {
        "id": "7PCVbhAf7X7Y"
      },
      "source": [
        "`#index`"
      ]
    },
    {
      "cell_type": "code",
      "metadata": {
        "colab": {
          "base_uri": "https://localhost:8080/"
        },
        "id": "6kiPpWO75FVf",
        "outputId": "e759d0db-1306-4ecb-878c-1b9aa1d5ea86"
      },
      "source": [
        "lst[6]"
      ],
      "execution_count": null,
      "outputs": [
        {
          "output_type": "execute_result",
          "data": {
            "text/plain": [
              "['abc', 'xyz']"
            ]
          },
          "metadata": {
            "tags": []
          },
          "execution_count": 18
        }
      ]
    },
    {
      "cell_type": "code",
      "metadata": {
        "colab": {
          "base_uri": "https://localhost:8080/",
          "height": 35
        },
        "id": "amDbn0rL5T0A",
        "outputId": "95605f48-e3c9-4a8f-93b2-05b55d919442"
      },
      "source": [
        "lst[6][1]"
      ],
      "execution_count": null,
      "outputs": [
        {
          "output_type": "execute_result",
          "data": {
            "application/vnd.google.colaboratory.intrinsic+json": {
              "type": "string"
            },
            "text/plain": [
              "'xyz'"
            ]
          },
          "metadata": {
            "tags": []
          },
          "execution_count": 20
        }
      ]
    },
    {
      "cell_type": "markdown",
      "metadata": {
        "id": "tW0O4Xrc7T_f"
      },
      "source": [
        "`#append`"
      ]
    },
    {
      "cell_type": "code",
      "metadata": {
        "id": "7qjLORv95f6X"
      },
      "source": [
        "lst.append('rahul')"
      ],
      "execution_count": null,
      "outputs": []
    },
    {
      "cell_type": "code",
      "metadata": {
        "colab": {
          "base_uri": "https://localhost:8080/"
        },
        "id": "-23IAtT45ssn",
        "outputId": "753f4152-4788-48d1-d715-65fa989db355"
      },
      "source": [
        "lst"
      ],
      "execution_count": null,
      "outputs": [
        {
          "output_type": "execute_result",
          "data": {
            "text/plain": [
              "[11, 25, 36, 55, 9.9, 55.6, ['abc', 'xyz'], 78, 'rahul']"
            ]
          },
          "metadata": {
            "tags": []
          },
          "execution_count": 23
        }
      ]
    },
    {
      "cell_type": "markdown",
      "metadata": {
        "id": "Mp0vK6xY8W4c"
      },
      "source": [
        "`#pop`"
      ]
    },
    {
      "cell_type": "code",
      "metadata": {
        "colab": {
          "base_uri": "https://localhost:8080/"
        },
        "id": "og1lRLOO5vKo",
        "outputId": "689570d4-fd0e-48ce-c352-84ba5dbbc056"
      },
      "source": [
        "lst.pop(5)"
      ],
      "execution_count": null,
      "outputs": [
        {
          "output_type": "execute_result",
          "data": {
            "text/plain": [
              "55.6"
            ]
          },
          "metadata": {
            "tags": []
          },
          "execution_count": 30
        }
      ]
    },
    {
      "cell_type": "code",
      "metadata": {
        "colab": {
          "base_uri": "https://localhost:8080/"
        },
        "id": "OcMywEtM6HH_",
        "outputId": "2d6eab6d-eb72-409b-e596-0493d98f1803"
      },
      "source": [
        "lst"
      ],
      "execution_count": null,
      "outputs": [
        {
          "output_type": "execute_result",
          "data": {
            "text/plain": [
              "[11, 25, 36, 55, 9.9, ['abc', 'xyz'], 78, 'rahul', 'rahul']"
            ]
          },
          "metadata": {
            "tags": []
          },
          "execution_count": 31
        }
      ]
    },
    {
      "cell_type": "markdown",
      "metadata": {
        "id": "gozfwMCv8gWQ"
      },
      "source": [
        "`#insert`"
      ]
    },
    {
      "cell_type": "code",
      "metadata": {
        "id": "8AcruZAp6nIR"
      },
      "source": [
        "lst.insert(5,\"lakshmi\")"
      ],
      "execution_count": null,
      "outputs": []
    },
    {
      "cell_type": "code",
      "metadata": {
        "colab": {
          "base_uri": "https://localhost:8080/"
        },
        "id": "VSN3eghY6xh9",
        "outputId": "3902c526-762f-4854-c5fa-c17e3dc72509"
      },
      "source": [
        "lst"
      ],
      "execution_count": null,
      "outputs": [
        {
          "output_type": "execute_result",
          "data": {
            "text/plain": [
              "[11, 25, 36, 55, 9.9, 'lakshmi', ['abc', 'xyz'], 78, 'rahul', 'rahul']"
            ]
          },
          "metadata": {
            "tags": []
          },
          "execution_count": 33
        }
      ]
    },
    {
      "cell_type": "markdown",
      "metadata": {
        "id": "xpIVmBmh8lv3"
      },
      "source": [
        "`#remove`"
      ]
    },
    {
      "cell_type": "code",
      "metadata": {
        "id": "Skjw4dTg66X_"
      },
      "source": [
        "lst.remove(36)"
      ],
      "execution_count": null,
      "outputs": []
    },
    {
      "cell_type": "code",
      "metadata": {
        "colab": {
          "base_uri": "https://localhost:8080/"
        },
        "id": "-L6MeJ7o7JSP",
        "outputId": "13cd34a4-f96a-45fd-c275-60e0d2eb0761"
      },
      "source": [
        "lst"
      ],
      "execution_count": null,
      "outputs": [
        {
          "output_type": "execute_result",
          "data": {
            "text/plain": [
              "[11, 25, 55, 9.9, 'lakshmi', ['abc', 'xyz'], 78, 'rahul', 'rahul']"
            ]
          },
          "metadata": {
            "tags": []
          },
          "execution_count": 37
        }
      ]
    },
    {
      "cell_type": "markdown",
      "metadata": {
        "id": "2dP5YWxG9Tpt"
      },
      "source": [
        "`#reverse`"
      ]
    },
    {
      "cell_type": "code",
      "metadata": {
        "id": "YpoeWbRO8sb2"
      },
      "source": [
        "lst.reverse()"
      ],
      "execution_count": null,
      "outputs": []
    },
    {
      "cell_type": "code",
      "metadata": {
        "colab": {
          "base_uri": "https://localhost:8080/"
        },
        "id": "3dxC_PwN9K0p",
        "outputId": "208d4ca8-5f46-49ac-ccd2-b262f5839027"
      },
      "source": [
        "lst"
      ],
      "execution_count": null,
      "outputs": [
        {
          "output_type": "execute_result",
          "data": {
            "text/plain": [
              "['rahul', 'rahul', 78, ['abc', 'xyz'], 'lakshmi', 9.9, 55, 25, 11]"
            ]
          },
          "metadata": {
            "tags": []
          },
          "execution_count": 40
        }
      ]
    },
    {
      "cell_type": "markdown",
      "metadata": {
        "id": "w9F-Sv7t9YYC"
      },
      "source": [
        "`#clear`"
      ]
    },
    {
      "cell_type": "code",
      "metadata": {
        "id": "wwP0tHIj9Xuc"
      },
      "source": [
        "lst.clear()"
      ],
      "execution_count": null,
      "outputs": []
    },
    {
      "cell_type": "code",
      "metadata": {
        "colab": {
          "base_uri": "https://localhost:8080/"
        },
        "id": "AiO_8Qcu9hAz",
        "outputId": "d0c822ab-ed94-4317-d21c-aaf39714554c"
      },
      "source": [
        "lst"
      ],
      "execution_count": null,
      "outputs": [
        {
          "output_type": "execute_result",
          "data": {
            "text/plain": [
              "[]"
            ]
          },
          "metadata": {
            "tags": []
          },
          "execution_count": 42
        }
      ]
    },
    {
      "cell_type": "markdown",
      "metadata": {
        "id": "n9m2kHwg9p_f"
      },
      "source": [
        "# **Experiment with 5 Dictionary’s In-Built Functions**"
      ]
    },
    {
      "cell_type": "markdown",
      "metadata": {
        "id": "lsrT69C0-tCF"
      },
      "source": [
        "`#creation`"
      ]
    },
    {
      "cell_type": "code",
      "metadata": {
        "id": "ANJYHVSv9uwa"
      },
      "source": [
        "dic = { \"Name\":'Harsh', \"id\":20 , \"branch\":'BCA' , \"age\":20 , \"location\":'Lucknow'} "
      ],
      "execution_count": null,
      "outputs": []
    },
    {
      "cell_type": "code",
      "metadata": {
        "colab": {
          "base_uri": "https://localhost:8080/"
        },
        "id": "friSMLX2AxjN",
        "outputId": "cd5ce8e1-5321-49f7-c2d6-72bfa73d3e96"
      },
      "source": [
        "dic"
      ],
      "execution_count": null,
      "outputs": [
        {
          "output_type": "execute_result",
          "data": {
            "text/plain": [
              "{'Name': 'Harsh', 'age': 20, 'branch': 'BCA', 'id': 20, 'location': 'Lucknow'}"
            ]
          },
          "metadata": {
            "tags": []
          },
          "execution_count": 49
        }
      ]
    },
    {
      "cell_type": "markdown",
      "metadata": {
        "id": "V6lM2sYCA2Wj"
      },
      "source": [
        "`#Keys`"
      ]
    },
    {
      "cell_type": "code",
      "metadata": {
        "colab": {
          "base_uri": "https://localhost:8080/"
        },
        "id": "8OzUvmJ9BAmT",
        "outputId": "28df7cb1-8093-401c-d3a6-90eac7167d20"
      },
      "source": [
        "dic.keys()"
      ],
      "execution_count": null,
      "outputs": [
        {
          "output_type": "execute_result",
          "data": {
            "text/plain": [
              "dict_keys(['Name', 'id', 'branch', 'age', 'location'])"
            ]
          },
          "metadata": {
            "tags": []
          },
          "execution_count": 52
        }
      ]
    },
    {
      "cell_type": "markdown",
      "metadata": {
        "id": "78kibRJMBWsg"
      },
      "source": [
        "`#items`"
      ]
    },
    {
      "cell_type": "code",
      "metadata": {
        "colab": {
          "base_uri": "https://localhost:8080/"
        },
        "id": "gCBthr4FBd1w",
        "outputId": "79921503-b304-41c3-fb67-4b861d1a9949"
      },
      "source": [
        "dic.items()"
      ],
      "execution_count": null,
      "outputs": [
        {
          "output_type": "execute_result",
          "data": {
            "text/plain": [
              "dict_items([('Name', 'Harsh'), ('id', 20), ('branch', 'BCA'), ('age', 20), ('location', 'Lucknow')])"
            ]
          },
          "metadata": {
            "tags": []
          },
          "execution_count": 53
        }
      ]
    },
    {
      "cell_type": "markdown",
      "metadata": {
        "id": "MTSDk5BZBmAN"
      },
      "source": [
        "`#pop`"
      ]
    },
    {
      "cell_type": "code",
      "metadata": {
        "colab": {
          "base_uri": "https://localhost:8080/"
        },
        "id": "9m5vi6ysB2jH",
        "outputId": "f13a1977-428a-4d40-9784-ec026257328a"
      },
      "source": [
        "dic.pop(\"age\")"
      ],
      "execution_count": null,
      "outputs": [
        {
          "output_type": "execute_result",
          "data": {
            "text/plain": [
              "20"
            ]
          },
          "metadata": {
            "tags": []
          },
          "execution_count": 54
        }
      ]
    },
    {
      "cell_type": "code",
      "metadata": {
        "colab": {
          "base_uri": "https://localhost:8080/"
        },
        "id": "psFxZ6aTCE1t",
        "outputId": "423f7d97-114c-45b8-fc91-be648014b1c5"
      },
      "source": [
        "dic"
      ],
      "execution_count": null,
      "outputs": [
        {
          "output_type": "execute_result",
          "data": {
            "text/plain": [
              "{'Name': 'Harsh', 'branch': 'BCA', 'id': 20, 'location': 'Lucknow'}"
            ]
          },
          "metadata": {
            "tags": []
          },
          "execution_count": 55
        }
      ]
    },
    {
      "cell_type": "markdown",
      "metadata": {
        "id": "IZCJrcJ3CUoY"
      },
      "source": [
        "`#update`"
      ]
    },
    {
      "cell_type": "code",
      "metadata": {
        "id": "x_oyzA4LCHq2"
      },
      "source": [
        "dic.update({\"year\":'3rd yr'})"
      ],
      "execution_count": null,
      "outputs": []
    },
    {
      "cell_type": "code",
      "metadata": {
        "colab": {
          "base_uri": "https://localhost:8080/"
        },
        "id": "Z9tLU0JaDCUc",
        "outputId": "3062819d-7310-46c3-bf5d-f515aa93ee94"
      },
      "source": [
        "dic"
      ],
      "execution_count": null,
      "outputs": [
        {
          "output_type": "execute_result",
          "data": {
            "text/plain": [
              "{'Name': 'Harsh',\n",
              " 'branch': 'BCA',\n",
              " 'id': 20,\n",
              " 'location': 'Lucknow',\n",
              " 'year': '3rd yr'}"
            ]
          },
          "metadata": {
            "tags": []
          },
          "execution_count": 57
        }
      ]
    },
    {
      "cell_type": "markdown",
      "metadata": {
        "id": "NcjtdicyDGrW"
      },
      "source": [
        "`#get`"
      ]
    },
    {
      "cell_type": "code",
      "metadata": {
        "colab": {
          "base_uri": "https://localhost:8080/",
          "height": 35
        },
        "id": "lSNb_Sj0DQKt",
        "outputId": "1a954495-75f4-4020-d1f7-5bc956ff1970"
      },
      "source": [
        "dic.get('location')"
      ],
      "execution_count": null,
      "outputs": [
        {
          "output_type": "execute_result",
          "data": {
            "application/vnd.google.colaboratory.intrinsic+json": {
              "type": "string"
            },
            "text/plain": [
              "'Lucknow'"
            ]
          },
          "metadata": {
            "tags": []
          },
          "execution_count": 59
        }
      ]
    },
    {
      "cell_type": "markdown",
      "metadata": {
        "id": "e5f3xzCTD7mV"
      },
      "source": [
        "`#values`"
      ]
    },
    {
      "cell_type": "code",
      "metadata": {
        "colab": {
          "base_uri": "https://localhost:8080/"
        },
        "id": "W68q4xaQDm99",
        "outputId": "c0c52634-a6b1-426e-8133-be44a28b173f"
      },
      "source": [
        "dic.values()"
      ],
      "execution_count": null,
      "outputs": [
        {
          "output_type": "execute_result",
          "data": {
            "text/plain": [
              "dict_values(['Harsh', 20, 'BCA', 'Lucknow', '3rd yr'])"
            ]
          },
          "metadata": {
            "tags": []
          },
          "execution_count": 60
        }
      ]
    },
    {
      "cell_type": "markdown",
      "metadata": {
        "id": "mWvTc7vBD7ER"
      },
      "source": [
        "`#clear`"
      ]
    },
    {
      "cell_type": "code",
      "metadata": {
        "id": "Aadn3cFKEFpu"
      },
      "source": [
        "dic.clear()"
      ],
      "execution_count": null,
      "outputs": []
    },
    {
      "cell_type": "code",
      "metadata": {
        "colab": {
          "base_uri": "https://localhost:8080/"
        },
        "id": "cu1SnKfTEJpF",
        "outputId": "6d5033ab-1154-46c3-8674-70af07667903"
      },
      "source": [
        "dic"
      ],
      "execution_count": null,
      "outputs": [
        {
          "output_type": "execute_result",
          "data": {
            "text/plain": [
              "{}"
            ]
          },
          "metadata": {
            "tags": []
          },
          "execution_count": 62
        }
      ]
    }
  ]
}